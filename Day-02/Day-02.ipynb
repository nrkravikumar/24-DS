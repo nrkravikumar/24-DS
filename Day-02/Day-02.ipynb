{
 "cells": [
  {
   "cell_type": "markdown",
   "id": "1903bbd8-e52a-4028-81f5-8cc9fd2d76c9",
   "metadata": {},
   "source": [
    "# Python Basics"
   ]
  },
  {
   "cell_type": "markdown",
   "id": "0b27d1c1-ec00-47a2-8fd7-0be8a148ae17",
   "metadata": {},
   "source": [
    "## Variable:\n",
    "    - It stores a value\n",
    "    - It changes a value\n",
    "    Syntax:\n",
    "        variable_name= value"
   ]
  },
  {
   "cell_type": "markdown",
   "id": "d85ead2f-8082-4917-b18d-7382eb797c29",
   "metadata": {},
   "source": [
    "## Variable Assignment types\n",
    "    - single variable = single value\n",
    "    - n number of varialbes = n number of values\n",
    "    - single variable = n number of values\n",
    "    - n number of variables = single value"
   ]
  },
  {
   "cell_type": "code",
   "execution_count": 2,
   "id": "ac0166c5-72a4-484e-b832-afeb734bd305",
   "metadata": {},
   "outputs": [
    {
     "data": {
      "text/plain": [
       "50"
      ]
     },
     "execution_count": 2,
     "metadata": {},
     "output_type": "execute_result"
    }
   ],
   "source": [
    "a = 50\n",
    "a"
   ]
  },
  {
   "cell_type": "code",
   "execution_count": 3,
   "id": "ae760088-843b-41d2-bb8d-3da3a1cd36f0",
   "metadata": {},
   "outputs": [
    {
     "data": {
      "text/plain": [
       "23"
      ]
     },
     "execution_count": 3,
     "metadata": {},
     "output_type": "execute_result"
    }
   ],
   "source": [
    "b = 23\n",
    "b"
   ]
  },
  {
   "cell_type": "code",
   "execution_count": 3,
   "id": "bb0cd250-4c34-4205-b56c-9806c304c20d",
   "metadata": {},
   "outputs": [
    {
     "data": {
      "text/plain": [
       "50"
      ]
     },
     "execution_count": 3,
     "metadata": {},
     "output_type": "execute_result"
    }
   ],
   "source": [
    "a"
   ]
  },
  {
   "cell_type": "code",
   "execution_count": 1,
   "id": "4bb91609-acb9-453d-98c6-3655407f70e3",
   "metadata": {},
   "outputs": [
    {
     "ename": "NameError",
     "evalue": "name 'a' is not defined",
     "output_type": "error",
     "traceback": [
      "\u001b[1;31m---------------------------------------------------------------------------\u001b[0m",
      "\u001b[1;31mNameError\u001b[0m                                 Traceback (most recent call last)",
      "Cell \u001b[1;32mIn[1], line 1\u001b[0m\n\u001b[1;32m----> 1\u001b[0m \u001b[43ma\u001b[49m\n",
      "\u001b[1;31mNameError\u001b[0m: name 'a' is not defined"
     ]
    }
   ],
   "source": [
    "a"
   ]
  },
  {
   "cell_type": "code",
   "execution_count": 4,
   "id": "e2fd88a5-0d67-4b35-8bce-067e1093481e",
   "metadata": {},
   "outputs": [
    {
     "data": {
      "text/plain": [
       "23"
      ]
     },
     "execution_count": 4,
     "metadata": {},
     "output_type": "execute_result"
    }
   ],
   "source": [
    "a\n",
    "b"
   ]
  },
  {
   "cell_type": "code",
   "execution_count": 5,
   "id": "fa431aa3-e2df-40d9-82af-3fd85e8981bc",
   "metadata": {},
   "outputs": [
    {
     "data": {
      "text/plain": [
       "50"
      ]
     },
     "execution_count": 5,
     "metadata": {},
     "output_type": "execute_result"
    }
   ],
   "source": [
    "b\n",
    "a"
   ]
  },
  {
   "cell_type": "code",
   "execution_count": 6,
   "id": "c453f3f9-7b3b-4343-aa25-b26aa0f3b6a2",
   "metadata": {},
   "outputs": [
    {
     "data": {
      "text/plain": [
       "(50, 23)"
      ]
     },
     "execution_count": 6,
     "metadata": {},
     "output_type": "execute_result"
    }
   ],
   "source": [
    "a,b"
   ]
  },
  {
   "cell_type": "code",
   "execution_count": 7,
   "id": "5521f315-1ff4-49a9-a83f-bd98a0ed037b",
   "metadata": {},
   "outputs": [
    {
     "data": {
      "text/plain": [
       "(45, '12')"
      ]
     },
     "execution_count": 7,
     "metadata": {},
     "output_type": "execute_result"
    }
   ],
   "source": [
    "c = 45\n",
    "d = '12'\n",
    "c,d"
   ]
  },
  {
   "cell_type": "markdown",
   "id": "489423c3-65db-4df5-abfd-c3046644b328",
   "metadata": {},
   "source": [
    "## Type:\n",
    "    - to know the data type of a variable\n",
    "    Syntax:\n",
    "        type(variable_name)"
   ]
  },
  {
   "cell_type": "code",
   "execution_count": 8,
   "id": "58fbe149-fee5-4194-9485-54722c4238cc",
   "metadata": {},
   "outputs": [
    {
     "data": {
      "text/plain": [
       "(int, str)"
      ]
     },
     "execution_count": 8,
     "metadata": {},
     "output_type": "execute_result"
    }
   ],
   "source": [
    "type(c),type(d)"
   ]
  },
  {
   "cell_type": "code",
   "execution_count": 9,
   "id": "4c572b87-fa41-4002-8577-1eabc9eb3c1e",
   "metadata": {},
   "outputs": [
    {
     "name": "stdout",
     "output_type": "stream",
     "text": [
      "45 <class 'int'>\n"
     ]
    },
    {
     "data": {
      "text/plain": [
       "int"
      ]
     },
     "execution_count": 9,
     "metadata": {},
     "output_type": "execute_result"
    }
   ],
   "source": [
    "t = 45\n",
    "print(t,type(t))\n",
    "type(t)"
   ]
  },
  {
   "cell_type": "code",
   "execution_count": 10,
   "id": "fcb4b965-d381-4cb9-8316-5a6d4c8b7fb3",
   "metadata": {},
   "outputs": [
    {
     "name": "stdout",
     "output_type": "stream",
     "text": [
      "34 <class 'str'>\n"
     ]
    },
    {
     "data": {
      "text/plain": [
       "str"
      ]
     },
     "execution_count": 10,
     "metadata": {},
     "output_type": "execute_result"
    }
   ],
   "source": [
    "p = '34'\n",
    "print(p,type(p))\n",
    "type(p)"
   ]
  },
  {
   "cell_type": "markdown",
   "id": "98af2284-e66c-4b5a-821f-fd7c0ea739b3",
   "metadata": {},
   "source": [
    "## Data Types:\n",
    "    - int => numeric values\n",
    "    - float => numberic and decimal values\n",
    "    - str => enclosed with ' or \"\n",
    "    - boolean => True or False\n",
    "    - complex => real and imaginary\n",
    "    - All Data structures[list,tuple,set and dictionary]"
   ]
  },
  {
   "cell_type": "code",
   "execution_count": 11,
   "id": "e2c50f06-1028-4b5b-81d8-4e3f08b83d20",
   "metadata": {},
   "outputs": [
    {
     "name": "stdout",
     "output_type": "stream",
     "text": [
      "2 <class 'int'>\n",
      "23.0 <class 'float'>\n",
      "(4+5j) <class 'complex'>\n",
      "False <class 'bool'>\n",
      "None <class 'NoneType'>\n",
      "Lalitha <class 'str'>\n"
     ]
    }
   ],
   "source": [
    "a,b,c,d,t,p = 2,23.0,4+5j,False,None,\"Lalitha\"\n",
    "print(a,type(a))\n",
    "print(b,type(b))\n",
    "print(c,type(c))\n",
    "print(d,type(d))\n",
    "print(t,type(t))\n",
    "print(p,type(p))"
   ]
  },
  {
   "cell_type": "code",
   "execution_count": 12,
   "id": "ede63d0c-a35b-4057-b5cb-aefa7145af70",
   "metadata": {},
   "outputs": [
    {
     "ename": "ValueError",
     "evalue": "not enough values to unpack (expected 6, got 5)",
     "output_type": "error",
     "traceback": [
      "\u001b[1;31m---------------------------------------------------------------------------\u001b[0m",
      "\u001b[1;31mValueError\u001b[0m                                Traceback (most recent call last)",
      "Cell \u001b[1;32mIn[12], line 1\u001b[0m\n\u001b[1;32m----> 1\u001b[0m a,b,c,d,t,p \u001b[38;5;241m=\u001b[39m \u001b[38;5;241m2\u001b[39m,\u001b[38;5;241m23.0\u001b[39m,\u001b[38;5;241m4\u001b[39m\u001b[38;5;241m+\u001b[39m\u001b[38;5;241m5\u001b[39mj,\u001b[38;5;28;01mFalse\u001b[39;00m,\u001b[38;5;28;01mNone\u001b[39;00m\n\u001b[0;32m      2\u001b[0m \u001b[38;5;28mprint\u001b[39m(a,\u001b[38;5;28mtype\u001b[39m(a))\n\u001b[0;32m      3\u001b[0m \u001b[38;5;28mprint\u001b[39m(b,\u001b[38;5;28mtype\u001b[39m(b))\n",
      "\u001b[1;31mValueError\u001b[0m: not enough values to unpack (expected 6, got 5)"
     ]
    }
   ],
   "source": [
    "a,b,c,d,t,p = 2,23.0,4+5j,False,None\n",
    "print(a,type(a))\n",
    "print(b,type(b))\n",
    "print(c,type(c))\n",
    "print(d,type(d))\n",
    "print(t,type(t))\n",
    "print(p,type(p))"
   ]
  },
  {
   "cell_type": "code",
   "execution_count": 2,
   "id": "156a3201-38cd-4d07-8a15-c7cc27cea387",
   "metadata": {},
   "outputs": [
    {
     "ename": "ValueError",
     "evalue": "too many values to unpack (expected 2)",
     "output_type": "error",
     "traceback": [
      "\u001b[1;31m---------------------------------------------------------------------------\u001b[0m",
      "\u001b[1;31mValueError\u001b[0m                                Traceback (most recent call last)",
      "Cell \u001b[1;32mIn[2], line 1\u001b[0m\n\u001b[1;32m----> 1\u001b[0m a,b \u001b[38;5;241m=\u001b[39m \u001b[38;5;241m2\u001b[39m,\u001b[38;5;241m23.0\u001b[39m,\u001b[38;5;241m4\u001b[39m\u001b[38;5;241m+\u001b[39m\u001b[38;5;241m5\u001b[39mj,\u001b[38;5;28;01mFalse\u001b[39;00m,\u001b[38;5;28;01mNone\u001b[39;00m\n\u001b[0;32m      2\u001b[0m \u001b[38;5;28mprint\u001b[39m(a,\u001b[38;5;28mtype\u001b[39m(a))\n\u001b[0;32m      3\u001b[0m \u001b[38;5;28mprint\u001b[39m(b,\u001b[38;5;28mtype\u001b[39m(b))\n",
      "\u001b[1;31mValueError\u001b[0m: too many values to unpack (expected 2)"
     ]
    }
   ],
   "source": [
    "a,b = 2,23.0,4+5j,False,None\n",
    "print(a,type(a))\n",
    "print(b,type(b))"
   ]
  },
  {
   "cell_type": "code",
   "execution_count": 13,
   "id": "48f005bd-ad2f-4e1f-b961-684f1f77b8a8",
   "metadata": {},
   "outputs": [
    {
     "name": "stdout",
     "output_type": "stream",
     "text": [
      "(45, 23.021, False, 'Kavitha') <class 'tuple'>\n"
     ]
    }
   ],
   "source": [
    "w = 45,23.021,False,\"Kavitha\"\n",
    "print(w,type(w))"
   ]
  },
  {
   "cell_type": "code",
   "execution_count": 14,
   "id": "fbba3901-3667-47da-a5bf-f4aeae6a5e5c",
   "metadata": {},
   "outputs": [
    {
     "name": "stdout",
     "output_type": "stream",
     "text": [
      "450 450 450\n"
     ]
    }
   ],
   "source": [
    "a = b = c = 450\n",
    "print(a,b,c)"
   ]
  },
  {
   "cell_type": "markdown",
   "id": "84792f42-cb3d-46db-9ef0-4f8ccbcadbf5",
   "metadata": {},
   "source": [
    "## Operators:\n",
    "    - Arithmetic => +,-,*,/,%,//,**\n",
    "    - Logical => AND,OR,NOT,XOR\n",
    "    - Bitwise => &,!,^,>>,|,<<\n",
    "    - Relational => ==,!=,>=,<=,>,<\n",
    "    - Assignment => +=,-=,*=,/=,%=,//=,**=\n",
    "    - Identity => is,is not\n",
    "    - Membership => in,not in"
   ]
  },
  {
   "cell_type": "markdown",
   "id": "943781e0-1bf7-4462-a877-1ecc447f815a",
   "metadata": {},
   "source": [
    "## Input Formatting:\n",
    "    - It displays an info to a user\n",
    "    - It reads a value from a user\n",
    "    - By default it stores string data type value\n",
    "    Syntax:\n",
    "        variable_name = input(\"something info\")"
   ]
  },
  {
   "cell_type": "code",
   "execution_count": 17,
   "id": "554f81cd-a166-470e-93c8-a46a1a256c59",
   "metadata": {},
   "outputs": [
    {
     "name": "stdin",
     "output_type": "stream",
     "text": [
      "Enter a value:  Prasad\n"
     ]
    },
    {
     "name": "stdout",
     "output_type": "stream",
     "text": [
      "Prasad <class 'str'>\n"
     ]
    }
   ],
   "source": [
    "n = input(\"Enter a value: \")\n",
    "print(n,type(n))"
   ]
  },
  {
   "cell_type": "code",
   "execution_count": 1,
   "id": "c0c0aaa1-b353-42c7-a99c-743f0c849275",
   "metadata": {},
   "outputs": [
    {
     "name": "stdin",
     "output_type": "stream",
     "text": [
      "Enter a value:  12.021\n",
      "Enter b value:  45\n"
     ]
    },
    {
     "name": "stdout",
     "output_type": "stream",
     "text": [
      "12.021 <class 'str'>\n",
      "45 <class 'str'>\n"
     ]
    }
   ],
   "source": [
    "a = input(\"Enter a value: \")\n",
    "b = input(\"Enter b value: \")\n",
    "print(a,type(a))\n",
    "print(b,type(b))"
   ]
  },
  {
   "cell_type": "code",
   "execution_count": 2,
   "id": "aad639c2-b38d-42d7-a682-b4e6338714f3",
   "metadata": {},
   "outputs": [
    {
     "name": "stdin",
     "output_type": "stream",
     "text": [
      " 45\n",
      " 56.05\n"
     ]
    },
    {
     "name": "stdout",
     "output_type": "stream",
     "text": [
      "45 <class 'str'> 56.05 <class 'str'>\n"
     ]
    }
   ],
   "source": [
    "n,m = input(),input()\n",
    "print(n,type(n),m,type(m))"
   ]
  },
  {
   "cell_type": "markdown",
   "id": "3ba74f3c-db27-4a1a-a4b3-8dc2f22c532e",
   "metadata": {},
   "source": [
    "## Type Casting:\n",
    "    - To convert one data type of value to another data type value\n",
    "    - int()\n",
    "    - float()\n",
    "    - str()\n",
    "    - bool()\n",
    "    - complex()\n",
    "    - All Data structures[list(),set(),tuple(),dict()]"
   ]
  },
  {
   "cell_type": "code",
   "execution_count": 3,
   "id": "0e862ae3-9864-4896-9d53-a8820399550d",
   "metadata": {},
   "outputs": [
    {
     "name": "stdout",
     "output_type": "stream",
     "text": [
      "45.021 <class 'float'>\n",
      "45 <class 'int'>\n",
      "45.021 <class 'float'>\n"
     ]
    }
   ],
   "source": [
    "w = 45.021\n",
    "print(w,type(w))\n",
    "k = int(w)\n",
    "print(k,type(k))\n",
    "print(w,type(w))"
   ]
  },
  {
   "cell_type": "code",
   "execution_count": 5,
   "id": "7c442862-16ab-4d60-9b0e-3f8d44f0a15b",
   "metadata": {},
   "outputs": [
    {
     "name": "stdin",
     "output_type": "stream",
     "text": [
      " '45'\n"
     ]
    },
    {
     "name": "stdout",
     "output_type": "stream",
     "text": [
      "'45' <class 'str'>\n"
     ]
    },
    {
     "ename": "ValueError",
     "evalue": "invalid literal for int() with base 10: \"'45'\"",
     "output_type": "error",
     "traceback": [
      "\u001b[1;31m---------------------------------------------------------------------------\u001b[0m",
      "\u001b[1;31mValueError\u001b[0m                                Traceback (most recent call last)",
      "Cell \u001b[1;32mIn[5], line 3\u001b[0m\n\u001b[0;32m      1\u001b[0m w \u001b[38;5;241m=\u001b[39m \u001b[38;5;28minput\u001b[39m()\n\u001b[0;32m      2\u001b[0m \u001b[38;5;28mprint\u001b[39m(w,\u001b[38;5;28mtype\u001b[39m(w))\n\u001b[1;32m----> 3\u001b[0m k \u001b[38;5;241m=\u001b[39m \u001b[38;5;28;43mint\u001b[39;49m\u001b[43m(\u001b[49m\u001b[43mw\u001b[49m\u001b[43m)\u001b[49m\n\u001b[0;32m      4\u001b[0m \u001b[38;5;28mprint\u001b[39m(k,\u001b[38;5;28mtype\u001b[39m(k))\n\u001b[0;32m      5\u001b[0m \u001b[38;5;28mprint\u001b[39m(w,\u001b[38;5;28mtype\u001b[39m(w))\n",
      "\u001b[1;31mValueError\u001b[0m: invalid literal for int() with base 10: \"'45'\""
     ]
    }
   ],
   "source": [
    "w = input()\n",
    "print(w,type(w))\n",
    "k = int(w)\n",
    "print(k,type(k))\n",
    "print(w,type(w))"
   ]
  },
  {
   "cell_type": "code",
   "execution_count": 11,
   "id": "bd5f084c-d183-4bc2-81e2-fb9fadd79915",
   "metadata": {},
   "outputs": [
    {
     "name": "stdin",
     "output_type": "stream",
     "text": [
      " 45.068559\n"
     ]
    },
    {
     "name": "stdout",
     "output_type": "stream",
     "text": [
      "45 <class 'int'>\n"
     ]
    }
   ],
   "source": [
    "k = int(float(input()))\n",
    "print(k,type(k))"
   ]
  },
  {
   "cell_type": "markdown",
   "id": "303b3586-7275-497f-a220-18ad73e476e9",
   "metadata": {},
   "source": [
    "```\n",
    "Input:\n",
    "    34\n",
    "    12\n",
    "Output:\n",
    "    Entered a value is: 34\n",
    "    Entered b value is: 12\n",
    "    Entered values are: '34','12'\n",
    "```"
   ]
  },
  {
   "cell_type": "markdown",
   "id": "ceec7b1e-4be4-4bd0-af81-521647da01a2",
   "metadata": {},
   "source": [
    "## Output Formatting:\n",
    "    - + ,\n",
    "    - .format\n",
    "    - f string\n",
    "    - format specifiers"
   ]
  },
  {
   "cell_type": "code",
   "execution_count": 16,
   "id": "04758f63-f3cc-4d44-b317-4a2562c511b9",
   "metadata": {},
   "outputs": [
    {
     "name": "stdin",
     "output_type": "stream",
     "text": [
      " 45\n",
      " 6\n"
     ]
    },
    {
     "name": "stdout",
     "output_type": "stream",
     "text": [
      "Entered a value is: 45\n",
      "Entered b value is: 6\n"
     ]
    }
   ],
   "source": [
    "n,m = int(input()),int(input())\n",
    "# print(\"Entered a value is: \",n)\n",
    "# print(\"Entered b value is: \",m)\n",
    "# print(\"Entered a value is: \"+str(n))\n",
    "# print(\"Entered b value is: \"+str(m))\n",
    "# print(\"Entered a value is: %d\"%n)\n",
    "# print(\"Entered b value is: %d\"%m)\n",
    "# print(\"Entered a value is: {}\".format(n))\n",
    "# print(\"Entered b value is: {}\".format(m))\n",
    "print(f\"Entered a value is: {n}\")\n",
    "print(f\"Entered b value is: {m}\")"
   ]
  },
  {
   "cell_type": "code",
   "execution_count": 18,
   "id": "56d8fb36-13c9-4aa0-ac00-ee295846eb12",
   "metadata": {},
   "outputs": [
    {
     "name": "stdin",
     "output_type": "stream",
     "text": [
      " 4\n",
      " 5\n"
     ]
    },
    {
     "name": "stdout",
     "output_type": "stream",
     "text": [
      "Entered a value is: 4\n",
      "Entered b value is: 5\n",
      "Entered values are: '4','5'\n",
      "Entered values are: '4','5'\n"
     ]
    }
   ],
   "source": [
    "a,b = int(input()),int(input())\n",
    "print(f\"Entered a value is: {a}\")\n",
    "print(f\"Entered b value is: {b}\")\n",
    "print(f\"Entered values are: '{a}','{b}'\")\n",
    "print(\"Entered values are: '\"+str(a)+\"','\"+str(b)+\"'\")"
   ]
  },
  {
   "cell_type": "markdown",
   "id": "f0721b60-3896-4ec0-9709-8c9c78271102",
   "metadata": {},
   "source": [
    "```\n",
    "Input:\n",
    "    12\n",
    "    45\n",
    "Output:\n",
    "    Sum of ? and ? is: ?\n",
    "    Sub of ? and ? is: ?\n",
    "    Mul of ? and ? is: ?\n",
    "    Div of ? and ? is: ?\n",
    "    Mod of ? and ? is: ?\n",
    "    FD of ? and ? is: ?\n",
    "    Power of ? and ? is: ?\n",
    "```"
   ]
  },
  {
   "cell_type": "code",
   "execution_count": 19,
   "id": "59835509-036f-4491-bb2e-55aede044e95",
   "metadata": {},
   "outputs": [
    {
     "name": "stdin",
     "output_type": "stream",
     "text": [
      " 2\n",
      " 5\n"
     ]
    },
    {
     "name": "stdout",
     "output_type": "stream",
     "text": [
      "Sum of 2 and 5 is: 7\n",
      "Sub of 2 and 5 is: -3\n",
      "Mul of 2 and 5 is: 10\n",
      "Div of 2 and 5 is: 0.4\n",
      "Mod of 2 and 5 is: 2\n",
      "FD of 2 and 5 is: 0\n",
      "Power of 2 and 5 is: 32\n"
     ]
    }
   ],
   "source": [
    "n,m = int(input()),int(input())\n",
    "print(f\"Sum of {n} and {m} is: {n+m}\")\n",
    "print(f\"Sub of {n} and {m} is: {n-m}\")\n",
    "print(f\"Mul of {n} and {m} is: {n*m}\")\n",
    "print(f\"Div of {n} and {m} is: {n/m}\")\n",
    "print(f\"Mod of {n} and {m} is: {n%m}\")\n",
    "print(f\"FD of {n} and {m} is: {n//m}\")\n",
    "print(f\"Power of {n} and {m} is: {n**m}\")"
   ]
  },
  {
   "cell_type": "code",
   "execution_count": 22,
   "id": "e4112ab5-94ea-45d1-a1e1-b58e3e1ed95d",
   "metadata": {},
   "outputs": [
    {
     "name": "stdout",
     "output_type": "stream",
     "text": [
      "12\n",
      "4\n",
      "4\n",
      "12\n",
      "4\n",
      "12\n"
     ]
    }
   ],
   "source": [
    "d = 4\n",
    "t = 12\n",
    "print(d and t)\n",
    "print(t and d)\n",
    "print(d or t)\n",
    "print(t or d)\n",
    "print(d & t)\n",
    "print(d | t)"
   ]
  },
  {
   "cell_type": "markdown",
   "id": "8f7bf432-166f-4912-91aa-7d67a43239ee",
   "metadata": {},
   "source": [
    "## Keywords:\n",
    "    - import\n",
    "    - kwlist"
   ]
  },
  {
   "cell_type": "code",
   "execution_count": 23,
   "id": "c668a57f-cc06-4481-b008-fbc3023124e5",
   "metadata": {},
   "outputs": [],
   "source": [
    "import keyword"
   ]
  },
  {
   "cell_type": "code",
   "execution_count": 24,
   "id": "17893ee2-1b20-4d87-9b73-d883589fa15f",
   "metadata": {},
   "outputs": [
    {
     "name": "stdout",
     "output_type": "stream",
     "text": [
      "['False', 'None', 'True', '__peg_parser__', 'and', 'as', 'assert', 'async', 'await', 'break', 'class', 'continue', 'def', 'del', 'elif', 'else', 'except', 'finally', 'for', 'from', 'global', 'if', 'import', 'in', 'is', 'lambda', 'nonlocal', 'not', 'or', 'pass', 'raise', 'return', 'try', 'while', 'with', 'yield']\n"
     ]
    }
   ],
   "source": [
    "print(keyword.kwlist)"
   ]
  },
  {
   "cell_type": "code",
   "execution_count": 25,
   "id": "052958e9-45fd-4249-8825-0b316d637328",
   "metadata": {},
   "outputs": [
    {
     "name": "stdout",
     "output_type": "stream",
     "text": [
      "36\n"
     ]
    }
   ],
   "source": [
    "print(len(keyword.kwlist))"
   ]
  },
  {
   "cell_type": "code",
   "execution_count": null,
   "id": "b2381eec-43cb-4beb-9993-b3f297886915",
   "metadata": {},
   "outputs": [],
   "source": []
  }
 ],
 "metadata": {
  "kernelspec": {
   "display_name": "Python 3 (ipykernel)",
   "language": "python",
   "name": "python3"
  },
  "language_info": {
   "codemirror_mode": {
    "name": "ipython",
    "version": 3
   },
   "file_extension": ".py",
   "mimetype": "text/x-python",
   "name": "python",
   "nbconvert_exporter": "python",
   "pygments_lexer": "ipython3",
   "version": "3.9.6"
  }
 },
 "nbformat": 4,
 "nbformat_minor": 5
}
