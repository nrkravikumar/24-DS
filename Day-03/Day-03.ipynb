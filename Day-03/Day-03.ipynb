{
 "cells": [
  {
   "cell_type": "markdown",
   "id": "eca4c4fa-8ab4-419c-93ec-2d056502b49d",
   "metadata": {},
   "source": [
    "## Conditional Statements\n",
    "    - To check whether the given condition is either True or False\n",
    "    - if => single case\n",
    "    - if-else => two cases\n",
    "    - elif => n number of cases but based on preference it works\n",
    "    - nested if => n number of cases but based on the conditions"
   ]
  },
  {
   "cell_type": "markdown",
   "id": "633c46c2-92d8-45b3-a7b9-d2d8075956d1",
   "metadata": {},
   "source": [
    "``` \n",
    "Input:\n",
    "    12\n",
    "    6\n",
    "Output:\n",
    "    Entered values are: 12,6\n",
    "    Given expression is 3x**2+5y and its value is: ?\n",
    "```"
   ]
  },
  {
   "cell_type": "code",
   "execution_count": 2,
   "id": "96b6ca39-9db3-4147-9235-de017ee68ad1",
   "metadata": {},
   "outputs": [
    {
     "name": "stdin",
     "output_type": "stream",
     "text": [
      " 1\n",
      " 2\n"
     ]
    },
    {
     "name": "stdout",
     "output_type": "stream",
     "text": [
      "Entered values are: 1,2\n",
      "Given expression is 3x**2+5y and its value is: 13\n"
     ]
    }
   ],
   "source": [
    "n,m = int(input()),int(input())\n",
    "print(f\"Entered values are: {n},{m}\")\n",
    "print(f\"Given expression is 3x**2+5y and its value is: {3*n**2+5*m}\")"
   ]
  },
  {
   "cell_type": "markdown",
   "id": "d69ab353-35ed-484c-b035-a6726cbba728",
   "metadata": {},
   "source": [
    "## if\n",
    "    Syntax:\n",
    "        if condition:\n",
    "            //statements\n",
    "        () => optional"
   ]
  },
  {
   "cell_type": "markdown",
   "id": "f3013b80-ff6f-4be2-8285-1957af637d04",
   "metadata": {},
   "source": [
    "```\n",
    "Input-1:\n",
    "    20\n",
    "Output-1:\n",
    "    Entered age is 20 and its difference is: +2years\n",
    "Input-2:\n",
    "    15\n",
    "Output-2:\n",
    "\n",
    "```"
   ]
  },
  {
   "cell_type": "code",
   "execution_count": 5,
   "id": "9eea595b-f09a-4ca8-9c7d-03c2ad5c44eb",
   "metadata": {},
   "outputs": [
    {
     "name": "stdin",
     "output_type": "stream",
     "text": [
      " 34\n"
     ]
    },
    {
     "name": "stdout",
     "output_type": "stream",
     "text": [
      "Entered age is 34 and its difference is: +16years\n"
     ]
    }
   ],
   "source": [
    "a = int(input())\n",
    "if a>=18:\n",
    "    print(f\"Entered age is {a} and its difference is: +{a-18}years\")"
   ]
  },
  {
   "cell_type": "markdown",
   "id": "dfa77b24-31f9-42ee-8cf4-0b4078016f5a",
   "metadata": {},
   "source": [
    "```\n",
    "expression: Even => 12x**3\n",
    "Input\n",
    "    2\n",
    "    3\n",
    "Output:\n",
    "    Entered value is Even\n",
    "    Entered second value is: 3    \n",
    "    Given expression is 12x**3 and the value is: ?\n",
    "```"
   ]
  },
  {
   "cell_type": "code",
   "execution_count": 12,
   "id": "6a551963-c31c-44f7-a02d-3ca5106df6a4",
   "metadata": {},
   "outputs": [
    {
     "name": "stdin",
     "output_type": "stream",
     "text": [
      " 10\n",
      " 2\n"
     ]
    },
    {
     "name": "stdout",
     "output_type": "stream",
     "text": [
      "Entered value is Even\n",
      "Entered second value is: 2\n",
      "Given expression is 12x**3 and the value is: 96\n"
     ]
    }
   ],
   "source": [
    "n = int(input())\n",
    "if n%2==0:\n",
    "    m = int(input())\n",
    "    print(\"Entered value is Even\")\n",
    "    print(f\"Entered second value is: {m}\")\n",
    "    print(f\"Given expression is 12x**3 and the value is: {12*m**3}\")"
   ]
  },
  {
   "cell_type": "markdown",
   "id": "3c38e688-c259-4026-b0d9-be3ca32bc198",
   "metadata": {},
   "source": [
    "## If-else:\n",
    "    Syntax:\n",
    "        if condition:\n",
    "            //statements\n",
    "        else:\n",
    "            //statements"
   ]
  },
  {
   "cell_type": "code",
   "execution_count": 10,
   "id": "bc6232d4-e438-44b9-a4b4-9dc50f97c48f",
   "metadata": {},
   "outputs": [
    {
     "name": "stdin",
     "output_type": "stream",
     "text": [
      " 16\n"
     ]
    },
    {
     "name": "stdout",
     "output_type": "stream",
     "text": [
      "entered age is16and its difference is:-2years\n"
     ]
    }
   ],
   "source": [
    "a=int(input())\n",
    "if a>=18:\n",
    "    print(f\"entered age is{a}and its difference is:+{a-18}years\")\n",
    "else:\n",
    "    print(f\"entered age is{a}and its difference is:-{18-a}years\")"
   ]
  },
  {
   "cell_type": "markdown",
   "id": "d986b560-a8cc-4b43-af7e-6ce3decc8f84",
   "metadata": {},
   "source": [
    "## elif\n",
    "    Syntax:\n",
    "        if condition-1:\n",
    "            //statement-1\n",
    "        elif condition-2:\n",
    "            //statement-2\n",
    "            |          |\n",
    "        elif condition-n:\n",
    "            //statement-n\n",
    "        else:\n",
    "            //statement-(n-2)\n",
    "            "
   ]
  },
  {
   "cell_type": "code",
   "execution_count": 25,
   "id": "46e4a696-03f4-48b7-ac9d-6288ec10b73c",
   "metadata": {},
   "outputs": [
    {
     "name": "stdin",
     "output_type": "stream",
     "text": [
      " 33\n"
     ]
    },
    {
     "name": "stdout",
     "output_type": "stream",
     "text": [
      "odd\n"
     ]
    }
   ],
   "source": [
    "a=int(input())\n",
    "if a>20 and a%2==0:\n",
    "    print(\"even and it is higher than 20\")\n",
    "elif a%5==0:\n",
    "    print(\"Divisible by 5\")\n",
    "elif (a%2==0):\n",
    "    print(\"even\")\n",
    "else:\n",
    "    print(\"odd\")\n"
   ]
  },
  {
   "cell_type": "code",
   "execution_count": null,
   "id": "6b1565c6-4ded-465e-bf76-f59660d778c1",
   "metadata": {},
   "outputs": [],
   "source": [
    "18 => even\n",
    "30 => even and it is higher than 20\n",
    "10 => divisible by 5\n",
    "14 => even\n",
    "33 => odd"
   ]
  },
  {
   "cell_type": "markdown",
   "id": "4a7b5358-995d-4902-8773-3fb774bb4646",
   "metadata": {},
   "source": [
    "## Nested if\n",
    "    Syntax:\n",
    "        if condition-1:\n",
    "            if condition-2:\n",
    "                //statement-1\n",
    "        else:\n",
    "            //statement-2\n",
    "    else => optional"
   ]
  },
  {
   "cell_type": "markdown",
   "id": "29729eb9-5b7f-40aa-b0cb-f5bb73f1d353",
   "metadata": {},
   "source": [
    "```\n",
    "Input-1:\n",
    "    CSE\n",
    "Output-1:\n",
    "    Entered branch is CSE and not belongs to DS\n",
    "Input-2:\n",
    "    DS\n",
    "    1\n",
    "Output-2:\n",
    "    Entered year is 1 and not belongs to 2nd year\n",
    "Input-3:\n",
    "    DS\n",
    "    2\n",
    "    raju\n",
    "Output-3:\n",
    "    Entered name is raju not belongs to ramesh\n",
    "Input-4:\n",
    "    DS\n",
    "    2\n",
    "    ramesh\n",
    "Output-4:\n",
    "    Hi Welcome ramesh\n",
    "\n",
    "```"
   ]
  },
  {
   "cell_type": "code",
   "execution_count": 30,
   "id": "53476a86-ea18-4593-87a2-bc266dbb58e9",
   "metadata": {},
   "outputs": [
    {
     "name": "stdin",
     "output_type": "stream",
     "text": [
      " DS\n",
      " 2\n",
      " ramesh\n"
     ]
    },
    {
     "name": "stdout",
     "output_type": "stream",
     "text": [
      "Hello Welcome ramesh\n"
     ]
    }
   ],
   "source": [
    "b = input()\n",
    "if b == \"DS\":\n",
    "    y = int(input())\n",
    "    if y == 2:\n",
    "        n = input()\n",
    "        if n == \"ramesh\":\n",
    "            print(f\"Hello Welcome {n}\")\n",
    "        else:\n",
    "            print(f\"Entere name is {n} not belongs to ramesh\")\n",
    "    else:\n",
    "        print(f\"Entered year is {y} and not belongs to 2nd year\")\n",
    "else:\n",
    "    print(f\"Entered branch is {b} and not belongs to DS\")\n",
    "    "
   ]
  },
  {
   "cell_type": "markdown",
   "id": "7a09355c-8af8-4f4d-8a78-691a9894931a",
   "metadata": {},
   "source": [
    "## Loops:\n",
    "    - To iterate the n number of statements untill the condition is false\n",
    "    - for => knwon ranges\n",
    "    - while => know and unknown ranges"
   ]
  },
  {
   "cell_type": "markdown",
   "id": "cd54771b-0236-4f91-ade7-17a1d52d623a",
   "metadata": {},
   "source": [
    "## for\n",
    "    Syntax:\n",
    "        for iterationvariable_name in range(start,stop,step):\n",
    "            //statements\n",
    "                                or\n",
    "        for iterationvariable_name in iterator:\n",
    "            //statements"
   ]
  },
  {
   "cell_type": "markdown",
   "id": "3a2478e3-2b1f-44f6-ac94-53a4f8af3129",
   "metadata": {},
   "source": [
    "## range:\n",
    "    - range(stop)\n",
    "        => It starts with 0 and it ends with stop-1 value\n",
    "        => By default it increments with +1 value\n",
    "        Ex:\n",
    "            range(5)\n",
    "                0 1 2 3 4\n",
    "    - range(start,stop)\n",
    "        => It starts  exactly with start value and it ends with stop-1 value\n",
    "        => By default it increments with +1 value\n",
    "        Ex:\n",
    "            range(5,10)\n",
    "                5 6 7 8 9\n",
    "    - range(start,stop,step)\n",
    "        => It starts exactly with start value and it ends with stop-1 value\n",
    "        => By default it increments/decrements with step value\n",
    "        Ex:\n",
    "            range(1,10,3)\n",
    "                1 4 7"
   ]
  },
  {
   "cell_type": "code",
   "execution_count": 37,
   "id": "40ef6c9f-2866-4b53-ab3e-6d8d615fb186",
   "metadata": {},
   "outputs": [
    {
     "name": "stdin",
     "output_type": "stream",
     "text": [
      " 5\n"
     ]
    },
    {
     "name": "stdout",
     "output_type": "stream",
     "text": [
      "1 2 3 4 5 "
     ]
    }
   ],
   "source": [
    "n = int(input())\n",
    "for i in range(n):\n",
    "    print(i+1,end=\" \")"
   ]
  },
  {
   "cell_type": "markdown",
   "id": "495dd27d-6256-4f67-b918-f5ee57070ca8",
   "metadata": {},
   "source": [
    "```\n",
    "5\n",
    "24F41A3201\n",
    "24F41A3202\n",
    "24F41A3203\n",
    "24F41A3204\n",
    "24F41A3205\n",
    "\n",
    "11\n",
    "24F41A3201\n",
    "24F41A3202\n",
    "24F41A3203\n",
    "24F41A3204\n",
    "24F41A3205\n",
    "24F41A3206\n",
    "24F41A3207\n",
    "24F41A3208\n",
    "24F41A3209\n",
    "24F41A3210\n",
    "```"
   ]
  },
  {
   "cell_type": "code",
   "execution_count": null,
   "id": "2b7964b3-ede3-4700-9d3c-70dd93620f74",
   "metadata": {},
   "outputs": [],
   "source": []
  }
 ],
 "metadata": {
  "kernelspec": {
   "display_name": "Python 3 (ipykernel)",
   "language": "python",
   "name": "python3"
  },
  "language_info": {
   "codemirror_mode": {
    "name": "ipython",
    "version": 3
   },
   "file_extension": ".py",
   "mimetype": "text/x-python",
   "name": "python",
   "nbconvert_exporter": "python",
   "pygments_lexer": "ipython3",
   "version": "3.9.6"
  }
 },
 "nbformat": 4,
 "nbformat_minor": 5
}
