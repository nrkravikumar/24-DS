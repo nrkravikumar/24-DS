{
 "cells": [
  {
   "cell_type": "code",
   "execution_count": 7,
   "id": "f2283de2-6fe6-454d-857f-10ad60b8e967",
   "metadata": {},
   "outputs": [
    {
     "name": "stdin",
     "output_type": "stream",
     "text": [
      " 11\n"
     ]
    },
    {
     "name": "stdout",
     "output_type": "stream",
     "text": [
      "24F41A3201\n",
      "24F41A3202\n",
      "24F41A3203\n",
      "24F41A3204\n",
      "24F41A3205\n",
      "24F41A3206\n",
      "24F41A3207\n",
      "24F41A3208\n",
      "24F41A3209\n",
      "24F41A3210\n",
      "24F41A3211\n"
     ]
    }
   ],
   "source": [
    "n = int(input())\n",
    "for i in range(n):\n",
    "    if i+1 <= 9:\n",
    "        print(f\"24F41A320{i+1}\")\n",
    "    else:\n",
    "        print(f\"24F41A32{i+1}\")"
   ]
  },
  {
   "cell_type": "code",
   "execution_count": 10,
   "id": "79dfa462-dce6-44aa-9db0-c06524138064",
   "metadata": {},
   "outputs": [
    {
     "name": "stdin",
     "output_type": "stream",
     "text": [
      " 11\n"
     ]
    },
    {
     "name": "stdout",
     "output_type": "stream",
     "text": [
      "24F41A3201\n",
      "24F41A3202\n",
      "24F41A3203\n",
      "24F41A3204\n",
      "24F41A3205\n",
      "24F41A3206\n",
      "24F41A3207\n",
      "24F41A3208\n",
      "24F41A3209\n",
      "24F41A3210\n",
      "24F41A3211\n"
     ]
    }
   ],
   "source": [
    "n = int(input())\n",
    "for i in range(n):\n",
    "    print(f\"24F41A32{i+1:02}\")"
   ]
  },
  {
   "cell_type": "code",
   "execution_count": 11,
   "id": "d13e94aa-ad4f-419b-8129-d8bc9c8c9747",
   "metadata": {},
   "outputs": [
    {
     "name": "stdin",
     "output_type": "stream",
     "text": [
      " 20\n"
     ]
    },
    {
     "name": "stdout",
     "output_type": "stream",
     "text": [
      "24F41A3220\n",
      "24F41A3219\n",
      "24F41A3218\n",
      "24F41A3217\n",
      "24F41A3216\n",
      "24F41A3215\n",
      "24F41A3214\n",
      "24F41A3213\n",
      "24F41A3212\n",
      "24F41A3211\n",
      "24F41A3210\n",
      "24F41A3209\n",
      "24F41A3208\n",
      "24F41A3207\n",
      "24F41A3206\n",
      "24F41A3205\n",
      "24F41A3204\n",
      "24F41A3203\n",
      "24F41A3202\n",
      "24F41A3201\n"
     ]
    }
   ],
   "source": [
    "n = int(input())\n",
    "for i in range(n):\n",
    "    print(f\"24F41A32{n-i:02}\")"
   ]
  },
  {
   "cell_type": "code",
   "execution_count": 17,
   "id": "c5e7d9e2-3312-45c3-ac61-18dca4f15d8b",
   "metadata": {},
   "outputs": [
    {
     "name": "stdin",
     "output_type": "stream",
     "text": [
      " 10\n",
      " 30\n",
      " 2\n"
     ]
    },
    {
     "name": "stdout",
     "output_type": "stream",
     "text": [
      "10 12 14 16 18 20 22 24 26 28 "
     ]
    }
   ],
   "source": [
    "start = int(input())\n",
    "stop = int(input())\n",
    "step = int(input())\n",
    "for i in range(start,stop,step):\n",
    "    print(i,end=\" \")"
   ]
  },
  {
   "cell_type": "markdown",
   "id": "e55f51c2-f0c1-460d-9c93-fc8f6358650f",
   "metadata": {},
   "source": [
    "## While\n",
    "    Syntax:\n",
    "        variable_initialization\n",
    "        while condition:\n",
    "            //statements\n",
    "            incr/decr"
   ]
  },
  {
   "cell_type": "code",
   "execution_count": 19,
   "id": "fa2a64d1-6da5-4a9a-a2b7-a6862b75fd2e",
   "metadata": {},
   "outputs": [
    {
     "name": "stdin",
     "output_type": "stream",
     "text": [
      " 20\n"
     ]
    },
    {
     "name": "stdout",
     "output_type": "stream",
     "text": [
      "1 2 3 4 5 6 7 8 9 10 11 12 13 14 15 16 17 18 19 "
     ]
    }
   ],
   "source": [
    "n = int(input())\n",
    "i = 1\n",
    "while n!=i:\n",
    "    print(i,end=\" \")\n",
    "    i += 1"
   ]
  },
  {
   "cell_type": "code",
   "execution_count": 21,
   "id": "a4948fcb-8d71-4eb3-903b-45a373e47229",
   "metadata": {},
   "outputs": [
    {
     "name": "stdin",
     "output_type": "stream",
     "text": [
      " 10\n"
     ]
    },
    {
     "name": "stdout",
     "output_type": "stream",
     "text": [
      "9 8 7 6 5 4 3 2 1 0 "
     ]
    }
   ],
   "source": [
    "n = int(input())\n",
    "while n!=0:\n",
    "    print(n-1,end=\" \")\n",
    "    n -= 1"
   ]
  },
  {
   "cell_type": "code",
   "execution_count": 2,
   "id": "f58d40cf-29ef-48fd-9326-4a885d456463",
   "metadata": {},
   "outputs": [
    {
     "name": "stdout",
     "output_type": "stream",
     "text": [
      "1.Add\n",
      "2.Even\n",
      "3.Range values\n",
      "4.Exit\n"
     ]
    },
    {
     "name": "stdin",
     "output_type": "stream",
     "text": [
      "Enter your choice:  2\n",
      "Enter a number:  24\n"
     ]
    },
    {
     "name": "stdout",
     "output_type": "stream",
     "text": [
      "Entered number 24 is Even\n",
      "1.Add\n",
      "2.Even\n",
      "3.Range values\n",
      "4.Exit\n"
     ]
    },
    {
     "name": "stdin",
     "output_type": "stream",
     "text": [
      "Enter your choice:  3\n",
      "Enter a range:  5\n"
     ]
    },
    {
     "name": "stdout",
     "output_type": "stream",
     "text": [
      "1 2 3 4 5 \n",
      "1.Add\n",
      "2.Even\n",
      "3.Range values\n",
      "4.Exit\n"
     ]
    },
    {
     "name": "stdin",
     "output_type": "stream",
     "text": [
      "Enter your choice:  4\n"
     ]
    },
    {
     "name": "stdout",
     "output_type": "stream",
     "text": [
      "Thankyou...\n"
     ]
    }
   ],
   "source": [
    "while True:\n",
    "    print(\"1.Add\\n2.Even\\n3.Range values\\n4.Exit\")\n",
    "    k = int(input(\"Enter your choice: \"))\n",
    "    if k == 1:\n",
    "        a,b = int(input(\"Enter a value: \")),int(input(\"Enter b value: \"))\n",
    "        print(f\"Sum of {a} and {b} is: {a+b}\")\n",
    "    elif k == 3:\n",
    "        b = int(input(\"Enter a range: \"))\n",
    "        for i in range(b):\n",
    "            print(i+1,end=\" \")\n",
    "        print()\n",
    "    elif k == 2:\n",
    "        n = int(input(\"Enter a number: \"))\n",
    "        if n%2==0:\n",
    "            print(f\"Entered number {n} is Even\")\n",
    "    elif k == 4:\n",
    "        print(\"Thankyou...\")\n",
    "        break\n",
    "    else:\n",
    "        print(\"Invalid Choice Try again\")"
   ]
  },
  {
   "cell_type": "markdown",
   "id": "65cacf91-ac38-4d71-b378-ada5b9999313",
   "metadata": {},
   "source": [
    "## Jumping Statements:\n",
    "    - break => It terminates from the loop\n",
    "    - continue => It skips a value from a loop\n",
    "    - pass => for future enhancements and works like continue\n",
    "    - return => It return single or n number of values"
   ]
  },
  {
   "cell_type": "code",
   "execution_count": 8,
   "id": "3c97843e-5aba-4e73-afb8-9f0289a365e9",
   "metadata": {},
   "outputs": [
    {
     "name": "stdin",
     "output_type": "stream",
     "text": [
      " 500\n"
     ]
    },
    {
     "name": "stdout",
     "output_type": "stream",
     "text": [
      "0 1 2 3 4 5 6 7 8 9 "
     ]
    }
   ],
   "source": [
    "n = int(input())\n",
    "for i in range(n):\n",
    "    if i == 10:\n",
    "        break\n",
    "    else:\n",
    "        print(i,end=\" \")"
   ]
  },
  {
   "cell_type": "code",
   "execution_count": 9,
   "id": "06a537c3-eda5-450f-a31c-3a38c6bd0c87",
   "metadata": {},
   "outputs": [
    {
     "name": "stdin",
     "output_type": "stream",
     "text": [
      " 20\n"
     ]
    },
    {
     "name": "stdout",
     "output_type": "stream",
     "text": [
      "0 1 2 3 4 5 6 7 8 9 11 12 13 14 15 16 17 18 19 "
     ]
    }
   ],
   "source": [
    "n = int(input())\n",
    "for i in range(n):\n",
    "    if i == 10:\n",
    "        continue\n",
    "    else:\n",
    "        print(i,end=\" \")"
   ]
  },
  {
   "cell_type": "code",
   "execution_count": 10,
   "id": "4da2f52a-f5c3-462c-8879-8ed52b659ac0",
   "metadata": {},
   "outputs": [
    {
     "name": "stdin",
     "output_type": "stream",
     "text": [
      " 20\n"
     ]
    },
    {
     "name": "stdout",
     "output_type": "stream",
     "text": [
      "0 1 2 3 4 5 6 7 8 9 11 12 13 14 15 16 17 18 19 "
     ]
    }
   ],
   "source": [
    "n = int(input())\n",
    "for i in range(n):\n",
    "    if i == 10:\n",
    "        pass\n",
    "    else:\n",
    "        print(i,end=\" \")"
   ]
  },
  {
   "cell_type": "markdown",
   "id": "1bab80ed-746a-4cdc-91cc-51c0b44a9986",
   "metadata": {},
   "source": [
    "## Inner Loops:\n",
    "    - Loop within a loop"
   ]
  },
  {
   "cell_type": "code",
   "execution_count": 12,
   "id": "1a2866ff-1351-49f0-872d-6eaa5b04d73a",
   "metadata": {},
   "outputs": [
    {
     "name": "stdin",
     "output_type": "stream",
     "text": [
      "Enter a range:  5\n"
     ]
    },
    {
     "name": "stdout",
     "output_type": "stream",
     "text": [
      "* * * * * \n",
      "* * * * * \n",
      "* * * * * \n",
      "* * * * * \n",
      "* * * * * \n"
     ]
    }
   ],
   "source": [
    "n = int(input(\"Enter a range: \"))\n",
    "for i in range(n):\n",
    "    for j in range(n):\n",
    "        print(\"*\",end=\" \")\n",
    "    print()"
   ]
  },
  {
   "cell_type": "code",
   "execution_count": 16,
   "id": "98dd42db-7ac9-48a4-8d99-a5dbdfeb3d5e",
   "metadata": {},
   "outputs": [
    {
     "name": "stdin",
     "output_type": "stream",
     "text": [
      "Enter a range:  5\n"
     ]
    },
    {
     "name": "stdout",
     "output_type": "stream",
     "text": [
      "*       * \n",
      "  *   *   \n",
      "    *     \n",
      "  *   *   \n",
      "*       * \n"
     ]
    }
   ],
   "source": [
    "n = int(input(\"Enter a range: \"))\n",
    "for i in range(n):\n",
    "    for j in range(n):\n",
    "        if i == j or i+j == n-1:\n",
    "            print(\"*\",end=\" \")\n",
    "        else:\n",
    "            print(\" \",end=\" \")\n",
    "    print()"
   ]
  },
  {
   "cell_type": "code",
   "execution_count": 20,
   "id": "5719b874-094d-467c-9949-d30756e7ee51",
   "metadata": {},
   "outputs": [
    {
     "name": "stdin",
     "output_type": "stream",
     "text": [
      "Enter a number:  456\n"
     ]
    },
    {
     "name": "stdout",
     "output_type": "stream",
     "text": [
      "Entered number is: 456 and its reverse is: 654\n"
     ]
    }
   ],
   "source": [
    "n = g = int(input(\"Enter a number: \"))\n",
    "rev = 0\n",
    "while n!=0:\n",
    "    rev = rev*10+n%10\n",
    "    n //= 10\n",
    "print(f\"Entered number is: {g} and its reverse is: {rev}\")"
   ]
  },
  {
   "cell_type": "code",
   "execution_count": 21,
   "id": "b02ca7a8-675f-4a06-815b-c33eb731a323",
   "metadata": {},
   "outputs": [
    {
     "name": "stdin",
     "output_type": "stream",
     "text": [
      "Enter a range:  3\n",
      "Enter a number:  123\n"
     ]
    },
    {
     "name": "stdout",
     "output_type": "stream",
     "text": [
      "Entered number 123 and its reverse is: 321\n"
     ]
    },
    {
     "name": "stdin",
     "output_type": "stream",
     "text": [
      "Enter a number:  457\n"
     ]
    },
    {
     "name": "stdout",
     "output_type": "stream",
     "text": [
      "Entered number 457 and its reverse is: 754\n"
     ]
    },
    {
     "name": "stdin",
     "output_type": "stream",
     "text": [
      "Enter a number:  7845\n"
     ]
    },
    {
     "name": "stdout",
     "output_type": "stream",
     "text": [
      "Entered number 7845 and its reverse is: 5487\n"
     ]
    }
   ],
   "source": [
    "n = int(input(\"Enter a range: \"))\n",
    "for i in range(n):\n",
    "    k = h = int(input(\"Enter a number: \"))\n",
    "    r = 0\n",
    "    while k!=0:\n",
    "        r = r*10+k%10\n",
    "        k //= 10\n",
    "    print(f\"Entered number {h} and its reverse is: {r}\")"
   ]
  },
  {
   "cell_type": "markdown",
   "id": "8a01cdc7-2b1e-4c71-b0f9-7cfe3cae6223",
   "metadata": {},
   "source": [
    "## Functions:\n",
    "    - To perform a specific task\n",
    "    Syntax:\n",
    "        def function_name(arguments):\n",
    "            //statements\n",
    "            return return_value\n",
    "            \n",
    "    - Predefined functions => print,input,range etc.,\n",
    "    - User Defined functions\n",
    "        = with returntype and with arguments\n",
    "        = with returntype and without arguments\n",
    "        = without returntype and with arguments\n",
    "        = without returntype and without arguments"
   ]
  },
  {
   "cell_type": "markdown",
   "id": "737aeb33-2903-49ff-afa3-7bf5f5d23c57",
   "metadata": {},
   "source": [
    "#### With return_type and with arguments"
   ]
  },
  {
   "cell_type": "code",
   "execution_count": 29,
   "id": "d758b833-af5a-4244-bfb4-cef3dbcde9a8",
   "metadata": {},
   "outputs": [
    {
     "name": "stdin",
     "output_type": "stream",
     "text": [
      "Enter a number:  10\n"
     ]
    },
    {
     "name": "stdout",
     "output_type": "stream",
     "text": [
      "Entered number 10 is Even\n"
     ]
    }
   ],
   "source": [
    "def evencheck(k):\n",
    "    '''\n",
    "    To check the given number is even or not?\n",
    "    '''\n",
    "    isEven = False\n",
    "    if k%2==0:\n",
    "        isEven = True\n",
    "    return isEven\n",
    "    \n",
    "n = int(input(\"Enter a number: \"))\n",
    "if evencheck(n) == True:\n",
    "    print(f\"Entered number {n} is Even\")\n",
    "else:\n",
    "    print(f\"Entered number {n} is Odd\")"
   ]
  },
  {
   "cell_type": "code",
   "execution_count": 23,
   "id": "f672ea69-69f7-4964-8f11-054712b2ed5c",
   "metadata": {},
   "outputs": [
    {
     "name": "stdout",
     "output_type": "stream",
     "text": [
      "\n",
      "    To check the given number is even or not?\n",
      "    \n"
     ]
    }
   ],
   "source": [
    "print(evencheck.__doc__)"
   ]
  },
  {
   "cell_type": "code",
   "execution_count": 24,
   "id": "178c7ad0-de88-45ac-9ef6-1b98029d0861",
   "metadata": {},
   "outputs": [
    {
     "name": "stdout",
     "output_type": "stream",
     "text": [
      "print(value, ..., sep=' ', end='\\n', file=sys.stdout, flush=False)\n",
      "\n",
      "Prints the values to a stream, or to sys.stdout by default.\n",
      "Optional keyword arguments:\n",
      "file:  a file-like object (stream); defaults to the current sys.stdout.\n",
      "sep:   string inserted between values, default a space.\n",
      "end:   string appended after the last value, default a newline.\n",
      "flush: whether to forcibly flush the stream.\n"
     ]
    }
   ],
   "source": [
    "print(print.__doc__)"
   ]
  },
  {
   "cell_type": "code",
   "execution_count": 25,
   "id": "a082b0a9-7138-4a6c-a941-ffa17192943a",
   "metadata": {},
   "outputs": [
    {
     "name": "stdout",
     "output_type": "stream",
     "text": [
      "range(stop) -> range object\n",
      "range(start, stop[, step]) -> range object\n",
      "\n",
      "Return an object that produces a sequence of integers from start (inclusive)\n",
      "to stop (exclusive) by step.  range(i, j) produces i, i+1, i+2, ..., j-1.\n",
      "start defaults to 0, and stop is omitted!  range(4) produces 0, 1, 2, 3.\n",
      "These are exactly the valid indices for a list of 4 elements.\n",
      "When step is given, it specifies the increment (or decrement).\n"
     ]
    }
   ],
   "source": [
    "print(range.__doc__)"
   ]
  },
  {
   "cell_type": "markdown",
   "id": "1c141e7c-1a74-473a-84fa-6132f1997344",
   "metadata": {},
   "source": [
    "#### With return_type and without arguments"
   ]
  },
  {
   "cell_type": "code",
   "execution_count": 31,
   "id": "49eee693-8a2c-42a8-bf4f-1bdc24ee3313",
   "metadata": {},
   "outputs": [
    {
     "name": "stdin",
     "output_type": "stream",
     "text": [
      "Enter a number:  53\n"
     ]
    },
    {
     "name": "stdout",
     "output_type": "stream",
     "text": [
      "Entered number is 53 is Odd\n"
     ]
    }
   ],
   "source": [
    "def evencheck():\n",
    "    k = int(input(\"Enter a number: \"))\n",
    "    isEven = False\n",
    "    print(f\"Entered number is {k}\",end=\" \")\n",
    "    if k%2==0:\n",
    "        isEven = True\n",
    "    return isEven\n",
    "    \n",
    "if evencheck() == True:\n",
    "    print(f\"Even\")\n",
    "else:\n",
    "    print(f\"is Odd\")"
   ]
  },
  {
   "cell_type": "markdown",
   "id": "5ed4eb98-7e44-4f23-9a9d-969f27ce2719",
   "metadata": {},
   "source": [
    "#### Without return_type and with arguments"
   ]
  },
  {
   "cell_type": "code",
   "execution_count": 33,
   "id": "6de493ff-ce2d-4f73-8c3a-ea6efd094c5e",
   "metadata": {},
   "outputs": [
    {
     "name": "stdin",
     "output_type": "stream",
     "text": [
      "Enter a number:  26\n"
     ]
    },
    {
     "name": "stdout",
     "output_type": "stream",
     "text": [
      "Entered number 26 is Even\n"
     ]
    }
   ],
   "source": [
    "def evencheck(k):    \n",
    "    if k%2==0:\n",
    "        print(f\"Entered number {k} is Even\")\n",
    "    else:\n",
    "        print(f\"Entered number {k} is Odd\")\n",
    "    return \n",
    "\n",
    "n = int(input(\"Enter a number: \"))\n",
    "evencheck(n)"
   ]
  },
  {
   "cell_type": "markdown",
   "id": "b3790e49-6fb4-4d25-af3b-3873455a78ea",
   "metadata": {},
   "source": [
    "#### Without return_type and without arguments"
   ]
  },
  {
   "cell_type": "code",
   "execution_count": 35,
   "id": "a659783f-60e1-4980-b564-e80c666114f3",
   "metadata": {},
   "outputs": [
    {
     "name": "stdin",
     "output_type": "stream",
     "text": [
      "Enter a number:  42\n"
     ]
    },
    {
     "name": "stdout",
     "output_type": "stream",
     "text": [
      "Entered number 42 is Even\n"
     ]
    }
   ],
   "source": [
    "def evencheck():\n",
    "    k = int(input(\"Enter a number: \"))\n",
    "    if k%2==0:\n",
    "        print(f\"Entered number {k} is Even\")\n",
    "    else:\n",
    "        print(f\"Entered number {k} is Odd\")\n",
    "    return \n",
    "\n",
    "evencheck()"
   ]
  },
  {
   "cell_type": "markdown",
   "id": "83de3d6b-d06b-4dfc-a9ef-76f7ccaa5e3c",
   "metadata": {},
   "source": [
    "### Function Argument Types:"
   ]
  },
  {
   "cell_type": "markdown",
   "id": "ea49166d-fe92-4584-b19b-e7000d74902d",
   "metadata": {},
   "source": [
    "#### Default Arguments\n",
    "    - The values are fixed and it should follows from right to left"
   ]
  },
  {
   "cell_type": "code",
   "execution_count": 36,
   "id": "d05864ad-4079-4b45-be6a-d5268676adaa",
   "metadata": {},
   "outputs": [
    {
     "name": "stdin",
     "output_type": "stream",
     "text": [
      "Enter your name:  Prasad\n",
      "Enter your year:  2\n"
     ]
    },
    {
     "name": "stdout",
     "output_type": "stream",
     "text": [
      "Student Details\n",
      "Name : Prasad\n",
      "Year : 2\n",
      "College : KEC\n"
     ]
    }
   ],
   "source": [
    "def student(n,y,c=\"KEC\"):\n",
    "    print(\"Student Details\")\n",
    "    print(f\"Name : {n}\")\n",
    "    print(f\"Year : {y}\")\n",
    "    print(f\"College : {c}\")\n",
    "    return\n",
    "\n",
    "stname = input(\"Enter your name: \")\n",
    "styear = int(input(\"Enter your year: \"))\n",
    "student(stname,styear)"
   ]
  },
  {
   "cell_type": "code",
   "execution_count": 37,
   "id": "0e1f024b-f87c-4eca-9d19-60f2c3dafde9",
   "metadata": {},
   "outputs": [
    {
     "name": "stdin",
     "output_type": "stream",
     "text": [
      "Enter your name:  Lavanya\n",
      "Enter your year:  3\n",
      "Enter Your College:  MITS\n"
     ]
    },
    {
     "name": "stdout",
     "output_type": "stream",
     "text": [
      "Student Details\n",
      "Name : Lavanya\n",
      "Year : 3\n",
      "College : MITS\n"
     ]
    }
   ],
   "source": [
    "def student(n,y,c):\n",
    "    print(\"Student Details\")\n",
    "    print(f\"Name : {n}\")\n",
    "    print(f\"Year : {y}\")\n",
    "    print(f\"College : {c}\")\n",
    "    return\n",
    "\n",
    "stname = input(\"Enter your name: \")\n",
    "styear = int(input(\"Enter your year: \"))\n",
    "scol = input(\"Enter Your College: \")\n",
    "student(stname,styear,scol)"
   ]
  },
  {
   "cell_type": "code",
   "execution_count": 38,
   "id": "d4679dc4-0164-4b06-b49a-dc90a0d278b2",
   "metadata": {},
   "outputs": [
    {
     "name": "stdin",
     "output_type": "stream",
     "text": [
      "Enter your name:  Lokesh\n",
      "Enter your year:  2\n",
      "Enter Your College:  AITS\n"
     ]
    },
    {
     "name": "stdout",
     "output_type": "stream",
     "text": [
      "Student Details\n",
      "Name : Lokesh\n",
      "Year : 2\n",
      "College : AITS\n"
     ]
    }
   ],
   "source": [
    "def student(n,y,c=\"KEC\"):\n",
    "    print(\"Student Details\")\n",
    "    print(f\"Name : {n}\")\n",
    "    print(f\"Year : {y}\")\n",
    "    print(f\"College : {c}\")\n",
    "    return\n",
    "\n",
    "stname = input(\"Enter your name: \")\n",
    "styear = int(input(\"Enter your year: \"))\n",
    "scol = input(\"Enter Your College: \")\n",
    "student(stname,styear,scol)"
   ]
  },
  {
   "cell_type": "code",
   "execution_count": null,
   "id": "721feaae-414a-4faa-b530-07aa3c2884e4",
   "metadata": {},
   "outputs": [],
   "source": []
  }
 ],
 "metadata": {
  "kernelspec": {
   "display_name": "Python 3 (ipykernel)",
   "language": "python",
   "name": "python3"
  },
  "language_info": {
   "codemirror_mode": {
    "name": "ipython",
    "version": 3
   },
   "file_extension": ".py",
   "mimetype": "text/x-python",
   "name": "python",
   "nbconvert_exporter": "python",
   "pygments_lexer": "ipython3",
   "version": "3.9.6"
  }
 },
 "nbformat": 4,
 "nbformat_minor": 5
}
